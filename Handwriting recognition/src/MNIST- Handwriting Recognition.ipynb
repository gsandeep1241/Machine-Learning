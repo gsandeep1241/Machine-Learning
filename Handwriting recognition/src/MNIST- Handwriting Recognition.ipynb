{
 "cells": [
  {
   "cell_type": "code",
   "execution_count": 37,
   "metadata": {
    "collapsed": true
   },
   "outputs": [],
   "source": [
    "#MNIST- Handwriting recognition- 95% accuracy using 2 layered Neural Network"
   ]
  },
  {
   "cell_type": "code",
   "execution_count": 38,
   "metadata": {
    "collapsed": true
   },
   "outputs": [],
   "source": [
    "import numpy as np\n",
    "import random\n",
    "\n",
    "#array representing neurons in each layer\n",
    "neurons = [784, 30, 10]\n",
    "\n",
    "#number of layers\n",
    "layers = len(neurons)\n",
    "\n",
    "#bias arrays\n",
    "bias = [np.random.randn(y, 1) for y in neurons[1:]]\n",
    "\n",
    "#weights arrays\n",
    "weights = [np.random.randn(y,x) for x,y in zip(neurons[:-1], neurons[1:])]"
   ]
  },
  {
   "cell_type": "code",
   "execution_count": 39,
   "metadata": {
    "collapsed": true
   },
   "outputs": [],
   "source": [
    "#sigmoid activation function\n",
    "def sigmoid(z):\n",
    "    return 1.0/(1.0+np.exp(-z))"
   ]
  },
  {
   "cell_type": "code",
   "execution_count": 40,
   "metadata": {
    "collapsed": true
   },
   "outputs": [],
   "source": [
    "#feed-forward functionality\n",
    "\n",
    "def feedforward(a):\n",
    "    for b,w in zip(bias, weights):\n",
    "        a = sigmoid(np.dot(w,a)+b)\n",
    "    return a"
   ]
  },
  {
   "cell_type": "code",
   "execution_count": 41,
   "metadata": {
    "collapsed": true
   },
   "outputs": [],
   "source": [
    "# stochastic gradient descent\n",
    "\n",
    "def sgd(training_data, count, mini_batch_size, learning_rate, test_data=None):\n",
    "    if test_data: n_test = len(test_data) \n",
    "    n = len(training_data)\n",
    "    for j in xrange(count):\n",
    "        random.shuffle(training_data)\n",
    "        mini_batches = [training_data[k:k+mini_batch_size] for k in xrange(0, n, mini_batch_size)]\n",
    "        \n",
    "        for mini_batch in mini_batches:\n",
    "            update_mini_batch(mini_batch, learning_rate)\n",
    "            \n",
    "        if test_data:\n",
    "            print \"Epoch {0}: {1} / {2}\".format(\n",
    "                j, evaluate(test_data), n_test)\n",
    "        else:\n",
    "            print \"Epoch {0} complete\".format(j)"
   ]
  },
  {
   "cell_type": "code",
   "execution_count": 42,
   "metadata": {
    "collapsed": true
   },
   "outputs": [],
   "source": [
    "#update weights and bias for each mini batch\n",
    "\n",
    "def update_mini_batch(mini_batch, learning_rate):\n",
    "    \n",
    "    global weights, bias\n",
    "    gradient_cost_weights = [np.zeros(w.shape) for w in weights]\n",
    "    gradient_cost_bias = [np.zeros(b.shape) for b in bias]\n",
    "    \n",
    "    for x,y in mini_batch:\n",
    "        delta_c_b, delta_c_w = back_prop(x, y)\n",
    "        gradient_cost_bias = [gcb+dcb for gcb, dcb in zip(gradient_cost_bias, delta_c_b)]\n",
    "        gradient_cost_weights = [gcw+dcw for gcw, dcw in zip(gradient_cost_weights, delta_c_w)]\n",
    "    \n",
    "    weights = [w-(learning_rate/len(mini_batch))*nw for w, nw in zip(weights, gradient_cost_weights)]\n",
    "    bias = [b-(learning_rate/len(mini_batch))*nb for b, nb in zip(bias, gradient_cost_bias)]"
   ]
  },
  {
   "cell_type": "code",
   "execution_count": 43,
   "metadata": {
    "collapsed": true
   },
   "outputs": [],
   "source": [
    "#back propagation- explaination later\n",
    "\n",
    "def back_prop(x, y):\n",
    "        nabla_b = [np.zeros(b.shape) for b in bias]\n",
    "        nabla_w = [np.zeros(w.shape) for w in weights]\n",
    "        \n",
    "        # feedforward\n",
    "        activation = x\n",
    "        activations = [x] # list to store all the activations, layer by layer\n",
    "        zs = [] # list to store all the z vectors, layer by layer\n",
    "        for b, w in zip(bias, weights):\n",
    "            z = np.dot(w, activation)+b\n",
    "            zs.append(z)\n",
    "            activation = sigmoid(z)\n",
    "            activations.append(activation)\n",
    "        \n",
    "        # backward pass\n",
    "        delta = cost_derivative(activations[-1], y) * \\\n",
    "            sigmoid_prime(zs[-1])\n",
    "        nabla_b[-1] = delta\n",
    "        nabla_w[-1] = np.dot(delta, activations[-2].transpose())\n",
    "        for l in xrange(2, layers):\n",
    "            z = zs[-l]\n",
    "            sp = sigmoid_prime(z)\n",
    "            delta = np.dot(weights[-l+1].transpose(), delta) * sp\n",
    "            nabla_b[-l] = delta\n",
    "            nabla_w[-l] = np.dot(delta, activations[-l-1].transpose())\n",
    "        return (nabla_b, nabla_w)\n",
    "    \n",
    "#cost derivative\n",
    "\n",
    "def cost_derivative(output_activations, y):\n",
    "    return (output_activations-y)\n",
    "    \n",
    "def sigmoid_prime(z):\n",
    "    return sigmoid(z)*(1-sigmoid(z))\n",
    "\n",
    "def evaluate(test_data):\n",
    "    test_results = [(np.argmax(feedforward(x)), y)\n",
    "                    for (x, y) in test_data]\n",
    "    return sum(int(x == y) for (x, y) in test_results)\n"
   ]
  },
  {
   "cell_type": "code",
   "execution_count": 44,
   "metadata": {
    "collapsed": true
   },
   "outputs": [],
   "source": [
    "#data loader\n",
    "import mnist_loader\n",
    "\n",
    "training_data, validation_data, test_data = mnist_loader.load_data_wrapper()"
   ]
  },
  {
   "cell_type": "code",
   "execution_count": 45,
   "metadata": {},
   "outputs": [
    {
     "name": "stdout",
     "output_type": "stream",
     "text": [
      "Epoch 0: 9020 / 10000\n",
      "Epoch 1: 9232 / 10000\n",
      "Epoch 2: 9281 / 10000\n",
      "Epoch 3: 9289 / 10000\n",
      "Epoch 4: 9348 / 10000\n",
      "Epoch 5: 9383 / 10000\n",
      "Epoch 6: 9346 / 10000\n",
      "Epoch 7: 9415 / 10000\n",
      "Epoch 8: 9370 / 10000\n",
      "Epoch 9: 9421 / 10000\n",
      "Epoch 10: 9427 / 10000\n",
      "Epoch 11: 9435 / 10000\n",
      "Epoch 12: 9439 / 10000\n",
      "Epoch 13: 9419 / 10000\n",
      "Epoch 14: 9423 / 10000\n",
      "Epoch 15: 9453 / 10000\n",
      "Epoch 16: 9429 / 10000\n",
      "Epoch 17: 9461 / 10000\n",
      "Epoch 18: 9467 / 10000\n",
      "Epoch 19: 9455 / 10000\n",
      "Epoch 20: 9456 / 10000\n",
      "Epoch 21: 9447 / 10000\n",
      "Epoch 22: 9465 / 10000\n",
      "Epoch 23: 9475 / 10000\n",
      "Epoch 24: 9455 / 10000\n",
      "Epoch 25: 9435 / 10000\n",
      "Epoch 26: 9464 / 10000\n",
      "Epoch 27: 9456 / 10000\n",
      "Epoch 28: 9461 / 10000\n",
      "Epoch 29: 9459 / 10000\n"
     ]
    }
   ],
   "source": [
    "sgd(training_data, 30, 10, 3.0, test_data)"
   ]
  }
 ],
 "metadata": {
  "kernelspec": {
   "display_name": "Python 2",
   "language": "python",
   "name": "python2"
  },
  "language_info": {
   "codemirror_mode": {
    "name": "ipython",
    "version": 2
   },
   "file_extension": ".py",
   "mimetype": "text/x-python",
   "name": "python",
   "nbconvert_exporter": "python",
   "pygments_lexer": "ipython2",
   "version": "2.7.14"
  }
 },
 "nbformat": 4,
 "nbformat_minor": 2
}
