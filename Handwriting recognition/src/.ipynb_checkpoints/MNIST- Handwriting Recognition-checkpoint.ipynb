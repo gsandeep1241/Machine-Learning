{
 "cells": [
  {
   "cell_type": "code",
   "execution_count": 1,
   "metadata": {
    "collapsed": true
   },
   "outputs": [],
   "source": [
    "import numpy as np\n",
    "import random\n",
    "\n",
    "#array representing neurons in each layer\n",
    "neurons = [784, 30, 10]\n",
    "\n",
    "#number of layers\n",
    "layers = len(neurons)\n",
    "\n",
    "#bias arrays\n",
    "bias = [np.random.randn(y, 1) for y in neurons[1:]]\n",
    "\n",
    "#weights arrays\n",
    "weights = [np.random.randn(y,x) for x,y in zip(neurons[:-1], neurons[1:])]"
   ]
  },
  {
   "cell_type": "code",
   "execution_count": 2,
   "metadata": {
    "collapsed": true
   },
   "outputs": [],
   "source": [
    "#sigmoid activation function\n",
    "def sigmoid(z):\n",
    "    return 1.0/(1.0+np.exp(-z))"
   ]
  },
  {
   "cell_type": "code",
   "execution_count": 3,
   "metadata": {
    "collapsed": true
   },
   "outputs": [],
   "source": [
    "#feed-forward functionality\n",
    "\n",
    "def feedforward(a):\n",
    "    for b,w in zip(bias, weights):\n",
    "        a = sigmoid(np.dot(w,a)+b)\n",
    "    return a"
   ]
  },
  {
   "cell_type": "code",
   "execution_count": 4,
   "metadata": {
    "collapsed": true
   },
   "outputs": [],
   "source": [
    "# stochastic gradient descent\n",
    "\n",
    "def sgd(training_data, count, learning_rate, mini_batch_size):\n",
    "    n = len(training_data)\n",
    "    for j in xrange(count):\n",
    "        random.shuffle(training_data)\n",
    "        mini_batches = [training_data[k:k+mini_batch_size] for k in xrange(0, n, mini_batch_size)]\n",
    "        \n",
    "        for mini_batch in mini_batches:\n",
    "            update_mini_batch(mini_batch, learning_rate)"
   ]
  },
  {
   "cell_type": "code",
   "execution_count": 5,
   "metadata": {
    "collapsed": true
   },
   "outputs": [],
   "source": [
    "#update weights and bias for each mini batch\n",
    "\n",
    "def update_mini_batch(mini_batch, learning_rate):\n",
    "    gradient_cost_bias = [np.zeros(b.shape) for b in bias]\n",
    "    gradient_cost_weights = [np.zeros(w.shape) for w in weights]\n",
    "    \n",
    "    for x,y in mini_batch:\n",
    "        delta_c_b, delta_c_w = back_prop(x, y)\n",
    "        gradient_cost_bias = [gcb+dcb for gcb, dcb in zip(gradient_cost_bias, delta_c_b)]\n",
    "        gradient_cost_weights = [gcw+dcw for gcw, dcw in zip(gradient_cost_weights, delta_c_w)]\n",
    "    \n",
    "    weights = [(w-(learning_rate)/(len(mini_batch)))*nw for w, nw in zip(weights, gradient_cost_weights)]\n",
    "    bias = [(b-(learning_rate)/(len(mini_batch)))*nb for b, nb in zip(bias, gradient_cost_bias)]"
   ]
  },
  {
   "cell_type": "code",
   "execution_count": 6,
   "metadata": {
    "collapsed": true
   },
   "outputs": [],
   "source": [
    "#back propagation- explaination later\n",
    "\n",
    "def back_prop(x, y):\n",
    "        nabla_b = [np.zeros(b.shape) for b in bias]\n",
    "        nabla_w = [np.zeros(w.shape) for w in weights]\n",
    "        \n",
    "        # feedforward\n",
    "        activation = x\n",
    "        activations = [x] # list to store all the activations, layer by layer\n",
    "        zs = [] # list to store all the z vectors, layer by layer\n",
    "        for b, w in zip(bias, weights):\n",
    "            z = np.dot(w, activation)+b\n",
    "            zs.append(z)\n",
    "            activation = sigmoid(z)\n",
    "            activations.append(activation)\n",
    "        \n",
    "        # backward pass\n",
    "        delta = cost_derivative(activations[-1], y) * \\\n",
    "            sigmoid_prime(zs[-1])\n",
    "        nabla_b[-1] = delta\n",
    "        nabla_w[-1] = np.dot(delta, activations[-2].transpose())\n",
    "        for l in xrange(2, self.num_layers):\n",
    "            z = zs[-l]\n",
    "            sp = sigmoid_prime(z)\n",
    "            delta = np.dot(weights[-l+1].transpose(), delta) * sp\n",
    "            nabla_b[-l] = delta\n",
    "            nabla_w[-l] = np.dot(delta, activations[-l-1].transpose())\n",
    "        return (nabla_b, nabla_w)\n",
    "    \n",
    "#cost derivative\n",
    "\n",
    "def cost_derivative(output_activations, y):\n",
    "        return (output_activations-y)\n",
    "    \n",
    "def sigmoid_prime(z):\n",
    "    return sigmoid(z)*(1-sigmoid(z))"
   ]
  },
  {
   "cell_type": "code",
   "execution_count": 7,
   "metadata": {},
   "outputs": [],
   "source": [
    "#data loader\n",
    "import mnist_loader\n",
    "\n",
    "training_data, validation_data, test_data = mnist_loader.load_data_wrapper()"
   ]
  },
  {
   "cell_type": "code",
   "execution_count": null,
   "metadata": {
    "collapsed": true
   },
   "outputs": [],
   "source": []
  },
  {
   "cell_type": "code",
   "execution_count": null,
   "metadata": {
    "collapsed": true
   },
   "outputs": [],
   "source": []
  }
 ],
 "metadata": {
  "kernelspec": {
   "display_name": "Python 2",
   "language": "python",
   "name": "python2"
  },
  "language_info": {
   "codemirror_mode": {
    "name": "ipython",
    "version": 2
   },
   "file_extension": ".py",
   "mimetype": "text/x-python",
   "name": "python",
   "nbconvert_exporter": "python",
   "pygments_lexer": "ipython2",
   "version": "2.7.14"
  }
 },
 "nbformat": 4,
 "nbformat_minor": 2
}
